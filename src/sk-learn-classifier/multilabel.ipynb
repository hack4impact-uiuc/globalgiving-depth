{
 "cells": [
  {
   "cell_type": "code",
   "execution_count": 70,
   "metadata": {},
   "outputs": [],
   "source": [
    "import sys\n",
    "import json\n",
    "import re\n",
    "import numpy as np\n",
    "\n",
    "from sklearn.feature_extraction.text import (\n",
    "    TfidfVectorizer,\n",
    "    CountVectorizer,\n",
    "    TfidfTransformer,\n",
    ")\n",
    "from sklearn.naive_bayes import MultinomialNB, GaussianNB, BernoulliNB\n",
    "from sklearn.linear_model import LogisticRegression\n",
    "from sklearn.pipeline import Pipeline, make_pipeline\n",
    "from sklearn.linear_model import SGDClassifier\n",
    "from sklearn.model_selection import train_test_split\n",
    "from sklearn.svm import SVC, LinearSVC\n",
    "from sklearn import metrics\n",
    "from sklearn.model_selection import GridSearchCV\n",
    "from sklearn.neural_network import MLPClassifier\n",
    "from sklearn.multiclass import OneVsRestClassifier\n",
    "from sklearn.preprocessing import MultiLabelBinarizer\n",
    "from sklearn.ensemble import ExtraTreesClassifier\n",
    "from sklearn.tree import DecisionTreeClassifier\n",
    "\n",
    "sys.path.append(\"..\")\n",
    "\n",
    "from utils.dataset_db import dynamo_db\n",
    "\n",
    "from nltk import word_tokenize\n",
    "from nltk.stem import WordNetLemmatizer\n",
    "\n",
    "\"\"\"\n",
    "Not used in optimal sol'n - also makes it take hours to run\n",
    "\"\"\"\n",
    "\n",
    "\n",
    "class LemmaTokenizer(object):\n",
    "    def __init__(self):\n",
    "        self.wnl = WordNetLemmatizer()\n",
    "\n",
    "    def __call__(self, doc):\n",
    "        return [self.wnl.lemmatize(t) for t in word_tokenize(doc)]\n",
    "\n",
    "\n",
    "def get_words(text):\n",
    "    text = text.lower()\n",
    "    wordlist = text.split()\n",
    "    clean_list = []\n",
    "    for word in wordlist:\n",
    "        # only get words (no digits)\n",
    "        if not word.isdigit() and not re.match(r\"[^\\w]\", word):\n",
    "            clean_list.append(word)\n",
    "\n",
    "    return \" \".join(clean_list)\n",
    "\n",
    "\n",
    "\"\"\"\n",
    "Doesn't actually train, just generates a JSON in the format we want of training data\n",
    "\"\"\"\n",
    "\n",
    "\n",
    "def train(dataset, matching_dataset):\n",
    "    next_index = 0\n",
    "    themes = {}  # themes to indices\n",
    "    targets = []  # indices of themes, parallel to text array\n",
    "    text = []\n",
    "    urls = []\n",
    "\n",
    "    i = 0\n",
    "    for project in dataset:\n",
    "        m_themes = project[\"themes\"]\n",
    "        for matching_project in matching_dataset:\n",
    "            if matching_project[\"url\"] == project[\"url\"]:\n",
    "                m_themes = matching_project[\"themes\"]\n",
    "                break\n",
    "        if len(project[\"text\"]) != 0:\n",
    "            words = get_words(project[\"text\"])\n",
    "            urls.append(project[\"url\"])\n",
    "            text.append(words)\n",
    "            targets.append([])\n",
    "            for theme in m_themes:\n",
    "                if theme[\"id\"] not in themes:\n",
    "                    themes[theme[\"id\"]] = next_index\n",
    "                    next_index += 1\n",
    "                targets[i].append(themes[theme[\"id\"]])\n",
    "        i += 1\n",
    "\n",
    "    data = {}\n",
    "    data[\"themes\"] = themes\n",
    "    data[\"targets\"] = targets\n",
    "    data[\"urls\"] = urls\n",
    "    data[\"text\"] = text\n",
    "    with open(\"trained1.json\", \"w\") as output_file:  # trained.json\n",
    "        json.dump(data, output_file)\n",
    "\n",
    "    return themes\n",
    "\n",
    "\n",
    "\"\"\"\n",
    "Vectorizes both training and testing data, then classifies\n",
    "\"\"\"\n",
    "\n",
    "\n",
    "def classify(testing_data, testing_targets):\n",
    "    with open(\"trained1.json\", \"r\") as input_file:  # trained.json\n",
    "        training_data = json.load(input_file)\n",
    "\n",
    "    urls = []\n",
    "    text = []\n",
    "    targets = []\n",
    "    i = 0\n",
    "    for project in testing_data:\n",
    "        if len(project[\"text\"]) != 0:\n",
    "            text.append(get_words(project[\"text\"]))\n",
    "            urls.append(project[\"url\"])\n",
    "            targets.append([])\n",
    "            for theme in project[\"themes\"]:\n",
    "                if theme[\"id\"] not in training_data[\"themes\"]:\n",
    "                    continue\n",
    "                targets[i].append(training_data[\"themes\"][theme[\"id\"]])\n",
    "        i += 1\n",
    "\n",
    "    text_clf = Pipeline(\n",
    "        [\n",
    "            (\"vect\", CountVectorizer(ngram_range=(1, 2), max_df=0.6)),\n",
    "            (\"tfidf\", TfidfTransformer()),\n",
    "            # (\n",
    "            #     \"clf\",\n",
    "            #     SGDClassifier(random_state=42, max_iter=50, class_weight=\"balanced\"),\n",
    "            # ),\n",
    "#             (\"clf\", OneVsRestClassifier(SGDClassifier(random_state=42, loss=\"log\")))\n",
    "            (\"clf\", DecisionTreeClassifier(random_state=42))\n",
    "        ]\n",
    "    )\n",
    "\n",
    "    y = training_data[\"targets\"]\n",
    "    y = MultiLabelBinarizer().fit_transform(y)\n",
    "    \n",
    "    test_words = text\n",
    "    text_clf.fit(training_data[\"text\"], y)\n",
    "    predicted = text_clf.predict_proba(test_words)\n",
    "    log_predicted = text_clf.predict(test_words)\n",
    "\n",
    "#     with open(\"predictions1.json\", \"w\") as output_file:  # predictions.json\n",
    "#         json.dump(\n",
    "#             predicted.tolist(),\n",
    "#             output_file,\n",
    "#             separators=(\",\", \":\"),\n",
    "#             sort_keys=True,\n",
    "#             indent=4,\n",
    "#         )\n",
    "\n",
    "    return predicted, log_predicted\n",
    "\n",
    "\n",
    "def get_targets(data, data_with_targets, themes):\n",
    "    targets = []\n",
    "    i = 0\n",
    "    for project in data:\n",
    "        m_themes = project[\"themes\"]\n",
    "        for matching_project in data_with_targets:\n",
    "            if matching_project[\"url\"] == project[\"url\"]:\n",
    "                m_themes = matching_project[\"themes\"]\n",
    "                break\n",
    "        targets.append([])\n",
    "        for theme in m_themes:\n",
    "            if theme[\"id\"] not in themes:\n",
    "                targets[i].append(-1)\n",
    "            targets[i].append(themes[theme[\"id\"]])\n",
    "        i += 1\n",
    "\n",
    "    return targets"
   ]
  },
  {
   "cell_type": "code",
   "execution_count": 9,
   "metadata": {},
   "outputs": [
    {
     "name": "stdout",
     "output_type": "stream",
     "text": [
      "3419\n",
      "2735 684\n"
     ]
    }
   ],
   "source": [
    "dataset = dynamo_db.get_dataset(\"organizations_text\")\n",
    "print(len(dataset))\n",
    "train_data, test_data = train_test_split(dataset, test_size=0.2, random_state=42)\n",
    "print(len(train_data), len(test_data))"
   ]
  },
  {
   "cell_type": "code",
   "execution_count": 14,
   "metadata": {},
   "outputs": [
    {
     "name": "stdout",
     "output_type": "stream",
     "text": [
      "5692\n"
     ]
    }
   ],
   "source": [
    "matching_dataset = dynamo_db.get_dataset(\"organizations\")\n",
    "print(len(matching_dataset))"
   ]
  },
  {
   "cell_type": "code",
   "execution_count": 28,
   "metadata": {},
   "outputs": [
    {
     "name": "stdout",
     "output_type": "stream",
     "text": [
      "{'ecdev': 0, 'edu': 1, 'finance': 2, 'gender': 3, 'rights': 4, 'climate': 5, 'children': 6, 'env': 7, 'health': 8, 'human': 9, 'tech': 10, 'animals': 11, 'disaster': 12, 'sport': 13, 'art': 14, 'democ': 15, 'hunger': 16, 'lgbtq': 17}\n"
     ]
    }
   ],
   "source": [
    "themes = train(train_data, matching_dataset)\n",
    "print(themes)"
   ]
  },
  {
   "cell_type": "code",
   "execution_count": 37,
   "metadata": {},
   "outputs": [
    {
     "name": "stdout",
     "output_type": "stream",
     "text": [
      "[[6, 1, 9], [6, 0, 1, 3, 8, 9, 4, 10, 16], [3], [6, 0, 1, 8, 13], [0, 1, 2, 3], [6, 5, 15, 12, 0, 1, 7, 2, 3, 8, 9, 4, 10], [6, 1, 3, 9, 4, 10], [6, 5, 0, 1, 7, 3, 8, 4], [6, 1], [6, 5, 12, 0, 1, 7, 3, 8, 9, 4, 16, 14], [3], [6, 1, 3, 9, 4], [8], [11], [5, 0, 1, 7, 3, 10], [6, 5, 0, 1, 7, 3, 8, 9, 4], [6, 1], [6, 1, 3, 13], [6, 0, 1, 3, 8, 4], [1], [6, 1, 3, 9, 4, 16], [6, 1, 2, 3, 4], [6, 12, 1, 3, 9, 16], [6, 15, 0, 1, 7, 3, 8, 4, 10], [6, 0, 1, 7, 3, 8, 9, 16], [6, 5, 1, 7, 10], [6, 5, 12, 0, 1, 7, 3, 8, 9, 10], [0, 1, 8, 9], [6, 1, 8], [6, 0, 1, 2, 3, 8, 9, 4, 13, 14], [6, 0, 7, 3, 8, 9, 10], [6, 1, 3, 8, 9, 13], [1], [6, 1, 2, 3, 8, 4], [0, 1, 3], [0, 1, 7, 2, 3, 8, 9, 4], [6, 0, 1, 2, 3], [11, 6, 5, 15, 0, 1, 7, 2, 3, 8, 4, 10, 14], [6, 12, 0, 1, 7, 3, 8, 9], [1, 2], [6, 1], [6, 1, 3, 8, 4, 13], [6, 0, 1, 3, 8, 16], [6, 1, 4, 13], [5, 0, 1, 7, 3, 8, 4, 10], [6, 0, 1, 2, 3, 8, 13], [6, 0, 1, 2, 3, 8, 4, 16], [0, 7, 4], [12, 0, 1, 3, 14], [12, 1], [11, 0, 1, 7], [6, 1, 3, 10], [6, 1, 3, 16], [7, 8], [6, 0, 1, 3, 8], [6, 1, 3], [6, 1, 3, 4], [1, 8], [14], [6, 1, 3], [6, 15, 12, 0, 1, 3, 8, 9, 4, 16], [6, 1, 3, 8, 9], [4], [8, 9, 4], [6, 1, 3, 4], [12, 0, 7, 3, 8, 16], [6, 0, 1, 3, 8, 9, 4, 16], [11, 8], [6], [6], [6, 15, 0, 1, 3, 8, 9, 4, 13], [11, 5, 0, 7], [6, 16], [6, 1, 4], [6, 1, 3, 8, 9, 16], [6, 1, 8], [1, 7], [6, 1, 9, 4], [4], [6, 1, 3], [6, 1, 3], [6, 8, 9], [8], [6, 1, 2, 3, 8], [1], [6, 5, 15, 12, 0, 1, 7, 2, 3, 8, 9, 4, 13, 10], [6, 15, 0, 1, 3, 8, 10], [15, 1, 3], [6, 0, 1, 3, 8, 4], [6, 0, 1, 2, 3, 8], [6, 1, 3], [8], [6, 1, 13, 10, 14], [11, 7], [11, 6, 5, 12, 0, 1, 7, 3, 8], [6, 1, 8], [6, 1, 8, 9], [6], [6, 1, 10], [6, 1, 3, 8, 9], [10], [8], [1], [6, 12, 1, 8, 16], [6, 15, 1, 2, 3, 8, 9, 4, 10], [8, 9, 4], [7], [6, 5, 15, 0, 1, 7, 2, 3, 4, 10, 14], [6, 1, 8, 9, 16], [0, 7, 3, 8, 16], [8], [6, 5, 15, 12, 0, 1, 7, 2, 3, 8, 9, 4, 16], [6, 1, 3, 10], [6, 5, 12, 1, 2, 3, 8, 9], [1], [6, 0, 1, 3], [5, 0, 3, 8, 4], [1], [1, 3, 4], [6, 0, 8], [3, 4], [8], [15, 0, 1, 4], [7, 8], [6, 0, 1, 7, 2, 3, 9], [6, 0, 1, 3, 9, 16], [1, 3, 8], [6, 12, 1, 2, 3, 8, 4, 16], [1], [6, 0, 1, 3, 8, 4], [6], [15, 4], [6, 1, 3, 8], [6, 1, 3, 9, 4, 13, 16, 14], [6, 1, 8, 4], [1], [1, 3, 8, 9, 4], [11, 6, 5, 15, 0, 1, 7, 2, 3, 8, 4], [7], [11], [11, 7], [6, 15, 1, 3, 8, 4], [6, 12, 1, 8, 13, 10], [6, 0, 1, 2, 3, 8, 4, 16], [6, 15, 0, 2, 3, 8, 9, 4, 10, 14], [0, 1, 3, 4], [15, 1, 7, 8, 13], [5, 12, 0, 1, 7, 8, 4], [6, 3, 4], [6, 0, 1, 7, 3, 8, 4, 16], [6, 15, 0, 1, 3, 4, 13, 10], [6, 0, 1, 3], [6, 1, 8, 4, 16], [6, 1, 8, 4], [6, 12, 0, 1, 7, 3, 8], [6, 5, 0, 1, 7, 3, 8], [1, 8], [6, 0, 7, 3, 8, 9], [0, 1, 3, 4], [1], [6, 1, 8, 9], [0, 1, 2, 3, 8], [11], [1, 7], [6], [6, 0, 1, 7], [4], [1], [6, 0, 1, 2, 3], [5, 7, 4], [6, 3, 9, 4], [1], [6, 3, 9], [1, 8], [5, 1, 7, 8], [6, 0, 3, 8], [6, 1, 3], [0, 3, 8], [6, 0, 1, 3, 9], [6, 1, 3, 4], [6, 1, 3, 8], [5, 12, 0, 7, 2, 8, 9, 4, 10, 16], [6, 1, 3, 8], [3], [6, 8], [6, 5, 15, 12, 0, 1, 3, 8, 4, 10, 17], [8], [6, 0, 1, 3, 8, 9, 4], [1, 3], [6, 3, 8, 4, 16], [6, 0, 1, 2, 3, 8], [6, 5, 15, 12, 0, 1, 7, 3, 8, 9, 4, 16], [6, 0, 1, 3, 8, 13, 10], [6, 5, 0, 1, 7, 2, 3, 8, 4, 10, 16], [15, 0, 1, 2, 3], [6, 1, 9], [1, 7], [6, 3, 8, 10], [1], [6, 15, 0, 1, 3, 4, 10], [6, 8, 14], [6, 8], [6, 1, 3, 8, 4], [6, 15, 1, 3, 4, 10], [6, 0, 1, 3, 8, 16], [6, 0, 1, 2, 3, 9, 16], [0, 4], [6, 1, 13], [6, 3, 4], [6, 1, 7, 3, 8, 13, 10], [6, 5, 0, 1, 7, 2, 8, 10], [6, 1, 3, 8, 9, 4, 14], [6, 0, 1, 3, 8, 4, 10], [6, 15, 12, 0, 1, 3, 8, 4], [15, 1, 4], [6, 1, 3], [6, 3, 13], [6, 1, 7], [6, 0, 1, 8, 9], [5, 1, 3, 8, 4, 10], [6, 15, 0, 1, 7, 8, 10], [3], [8], [6, 0, 1, 7, 2, 3, 8, 9, 4, 13, 10], [6, 15, 0, 1, 7, 2, 3, 8, 9, 4, 10], [7], [6, 5, 0, 1, 7, 3, 8, 10], [6, 1, 3], [1], [11, 1, 7], [6, 3, 8], [6, 5, 12, 1, 7, 8, 4, 14], [6, 8], [1], [6, 1, 8, 14], [0, 1], [15, 0, 1, 3, 4], [6, 0, 1, 3, 4], [6, 5, 12, 0, 1, 7, 3, 8, 4, 16], [3], [6, 0, 1, 7, 3, 8, 10], [1, 3, 8, 13], [6, 1, 14], [3, 8], [1], [3, 14], [6, 1, 3, 4, 14], [6, 5, 12, 0, 1, 2, 3, 8, 9, 4], [11, 6, 5, 12, 0, 1, 7, 3, 8, 9, 10], [6, 5, 15, 12, 0, 1, 7, 3, 8, 9, 4, 13, 16, 14, 17], [6, 0, 1, 7, 2, 3, 8, 4, 16], [6, 0, 1, 3, 8, 9], [6, 12, 1, 7, 2, 3, 8, 4, 14], [1, 8], [6, 5, 15, 1, 7, 2, 3, 8, 10], [0], [6, 0, 1, 4], [1, 3, 4], [6, 1, 3, 9, 4], [15, 12, 0, 1, 3, 8, 4, 10], [6, 0, 1, 3, 8, 9], [3, 4, 10], [11, 7], [6, 15, 1, 7, 3, 4], [6, 5, 1, 7, 3, 8], [8], [6, 12, 0, 1, 7, 3, 8, 9, 4, 13], [0, 1, 2, 3], [11, 6, 15, 0, 1, 7, 3, 8, 9, 4, 10, 16, 14], [6, 5, 0, 1, 7, 3, 8], [6, 12, 3, 8, 9], [0, 1, 3], [6, 3, 8], [0, 1, 7, 3, 8, 4], [6, 0, 1, 7, 2, 3, 8, 13, 10, 16, 14], [1, 2, 8], [15, 7, 3, 4], [6, 5, 12, 0, 1, 7, 3, 8, 4, 10, 16], [4], [0], [6, 8, 16], [5, 0, 7, 8], [6], [5, 15, 0, 1, 7, 2, 3, 8, 9, 4], [6, 12, 0, 1, 7, 8, 9, 13], [11, 1, 8], [6, 5, 1, 7, 3, 8, 4, 10, 14], [6, 1], [7], [0, 1], [8], [1], [6, 5, 0, 1, 7, 3, 8, 9, 4], [6, 1, 3, 8, 4], [6, 0, 1, 7, 3, 8, 4, 13], [0], [15, 0, 1, 2], [0, 1, 7], [1], [6, 0, 1, 7, 2, 3, 8, 4], [6, 0, 1, 3, 8, 9, 4], [3, 8], [0, 1, 3], [8], [1], [6, 2, 8, 4], [6, 0, 1, 7, 3, 8, 13, 10], [6, 12, 0, 1, 3], [6, 0, 1, 3, 8, 9, 4, 13, 16, 14], [7], [6, 1, 3, 8, 9], [0, 2], [6, 5, 0, 1, 7, 8, 10, 16, 14], [6, 0, 1, 2, 3, 8, 9, 16], [1], [6, 1, 3, 8], [6, 15, 12, 0, 1, 7, 3, 8, 9, 4, 13], [11], [0], [6, 12, 1, 2, 8, 4], [6, 12, 8, 9, 16], [1, 7, 8, 13], [6, 0, 1, 3, 8], [6], [12, 0, 8, 9, 4], [6, 12, 0, 1, 7, 3, 8, 4], [6, 1, 3, 8, 9], [6], [6, 1, 3, 8, 4], [6, 3, 8, 9, 4], [0, 1, 2, 3, 8, 10, 16], [0, 1, 7, 2, 3, 9], [1, 3], [11, 5, 0, 7, 8, 14], [8], [6, 15, 0, 1, 2, 3, 8, 9, 4, 13], [0, 4], [6, 8], [6, 0, 1, 3, 8, 14], [6, 0, 1, 2, 3, 8, 9, 4, 10], [12, 3, 9], [6, 5, 15, 1, 7, 2, 3, 8, 9], [3, 8], [1, 8], [6, 1, 3, 4], [6, 0, 1, 3, 13], [5, 0, 1, 7], [11, 5, 7, 14], [11, 1, 7], [6, 15, 0, 1, 7, 2, 3, 8, 4], [11, 6, 5, 0, 1, 7, 8, 14], [0, 3], [6, 5, 15, 12, 0, 1, 2, 3, 8, 9, 4, 16, 14], [1, 10, 14], [1], [3], [6, 1, 3, 8, 16], [1, 7, 8, 16], [6, 1, 8], [6, 0, 1, 2, 3, 8, 4], [6, 1, 3, 8], [0, 2, 3], [11, 6, 5, 0, 1, 7, 3, 8, 9], [6, 1, 3], [6, 0, 1, 7, 2, 3, 8, 9, 10], [6, 0, 1], [11, 1, 7], [6, 3, 8, 9], [8], [15], [6, 5, 15, 12, 0, 1, 7, 2, 3, 8, 9, 4, 14], [6, 15, 12, 0, 1, 2, 3, 8, 9, 4, 10, 16], [6, 1, 3, 4, 14], [0], [11, 6, 1, 8], [15, 0, 1, 3, 8, 4], [6, 15, 7, 3, 8, 4], [7], [8], [3, 8], [6, 5, 0, 1, 7, 3, 8, 4], [4], [0, 1, 3], [15, 0, 1, 8, 4], [6, 0, 8, 10], [1, 3], [6, 5, 15, 0, 1, 7, 2, 3, 8, 10, 16], [8], [6, 5, 15, 12, 0, 1, 7, 2, 3, 8, 9, 4], [12, 0, 1, 8], [6, 0, 1, 3, 8], [6, 3, 4], [8], [1, 8], [6, 4], [6, 1, 3, 8], [15, 12, 0, 1, 7, 3, 9, 4], [15, 1, 4, 10, 14], [0, 3, 8, 4, 17], [0, 1, 3], [6, 8], [6, 5, 1, 7, 3, 10], [6], [6, 3], [0, 1, 2, 3], [6, 0, 1, 3], [6, 1, 3, 8, 16], [8], [5, 7], [5, 0, 1, 7, 3, 8, 4, 10], [6, 0, 1, 8], [11, 6, 12, 0, 1, 7, 2, 3, 8, 16], [6, 1, 3, 8, 4], [8], [0, 1, 3, 4], [6, 15, 0, 1, 2, 3, 8, 4], [8], [6, 1, 3, 13, 14], [6, 0, 1, 3, 8, 9, 4, 10, 16], [6, 0, 1, 2, 3, 8, 4, 13, 16], [6, 1, 2, 4], [12, 0, 1], [6, 8], [5, 0, 1, 7, 8, 4, 10], [6, 1, 3, 10], [6, 1, 9], [3], [6, 12, 1, 3, 8], [1, 3], [6, 1, 10], [3, 8, 4], [12, 8, 9], [6, 15, 0, 1, 2, 3, 8, 9, 4], [1, 7, 8], [6, 1, 3, 9, 14], [1, 2, 8], [15, 0, 1, 10], [6, 1, 8, 13], [1], [6, 0, 1, 7, 2, 3, 8, 13], [6, 12, 0, 1, 14], [6, 1], [6, 0, 1, 3], [7], [1, 2, 3, 10], [11, 6, 5, 0, 1, 7, 2, 3, 8, 4], [7], [1], [11, 6, 0, 1, 7, 3, 14], [6, 15, 0, 1, 3, 8, 4], [6, 1, 8, 9], [6, 0, 1, 2, 3, 8, 4], [1], [11], [6, 5, 0, 1, 7, 2, 3, 8, 9], [6, 5, 15, 12, 0, 1, 7, 2, 3, 8, 9, 4, 10, 16, 14], [1, 2, 3, 8, 4, 13], [11, 6, 12, 0, 1, 2, 3, 8, 9, 4, 10], [6, 1, 3, 8, 4], [6, 1, 3, 8, 4], [5, 0, 1, 7], [6, 12, 0, 1, 7, 3, 8, 13, 10], [6, 12, 1, 7, 2, 10], [6, 12, 1, 2, 3, 8, 9, 4, 16], [6, 1, 7, 3, 8, 13], [6, 15, 0, 1, 2, 3, 8, 9, 4, 13, 10, 16, 14], [6, 1, 3, 8], [6, 5, 0, 7, 3, 16], [6, 8], [5, 7, 16], [6, 0, 1, 2, 3, 8, 9, 4], [6, 4], [6, 1, 7], [1, 8], [6, 1], [6, 1, 3, 8, 13], [6, 12, 0, 1, 2, 3, 8, 9, 4, 14], [6, 1, 3, 8, 4], [6, 1, 8, 13], [6, 1], [8], [6, 8], [0, 1, 8], [1, 3, 8], [6, 1, 3, 9, 4], [11, 6, 5, 0, 1, 7, 3, 8, 9, 4, 13, 16], [6, 0, 1, 3, 9, 4, 13], [6, 15, 1, 3, 4], [6, 15, 4], [6, 15, 0, 1, 8, 4], [15, 0, 4], [6, 7, 8, 9, 4], [1], [6, 5, 15, 0, 1, 7, 3, 4], [6, 1, 3, 8, 10], [1, 3, 4], [6, 1, 3, 16], [1], [0], [0, 1, 3, 10], [6, 12, 1, 8, 9, 13, 10], [15, 12, 3], [11, 6, 3, 8, 13], [0, 1, 2, 4], [6, 0, 1, 7, 3, 8], [6, 5, 0, 1, 7, 3, 8, 16], [6, 5, 15, 12, 1, 7, 3, 8, 9, 4, 16, 17], [13], [6, 1], [6, 1, 3, 8, 9, 4, 13, 16], [6, 12, 3, 8, 9], [8, 9, 4], [1], [6, 5, 1, 3, 13], [6, 1, 3, 8, 9], [5, 7], [1, 10], [4], [0, 1, 3], [6, 8], [6, 8], [1], [6], [6, 1, 3, 8, 16], [11, 6, 5, 12, 1, 7, 3, 8, 9, 10, 14], [6, 1, 7, 8, 13], [8], [0, 2, 8, 16], [5, 12, 0, 7, 2, 9, 10], [6, 12], [1, 3, 8], [6, 3, 8, 10], [1], [6, 0, 1, 3, 16], [6, 1, 3, 8], [6, 1, 8], [11, 6, 0, 1, 2, 3, 8, 16], [6, 0, 1, 2, 3, 8, 4], [1], [1], [6, 0, 1], [6, 0, 1, 3, 14], [1, 3, 4], [6, 12, 0, 1, 7, 3, 8, 9, 4, 16], [1], [7, 4, 10], [11, 6, 5, 15, 12, 0, 1, 7, 2, 3, 8, 9, 4, 14], [0, 1], [6, 1], [11, 7, 14], [6, 1, 7, 3, 10, 14], [11, 6, 15, 12, 0, 1, 7, 3, 8, 4, 16], [6, 12, 0, 1, 3, 8, 9, 10, 16], [0, 1, 3, 8, 9, 4], [12], [1], [5, 1, 7, 2, 3, 8, 13, 10], [6, 15, 1, 3, 4], [3], [6, 0, 1, 3, 4], [8, 4], [0, 1, 7, 2, 3, 8], [5, 15, 7, 3], [8], [6, 0, 1, 8, 13], [15, 1, 10], [6, 1], [6, 0, 1, 3, 8, 9], [10], [6, 12, 0, 1, 3, 8, 9, 4], [6, 12, 0, 1, 3, 8, 9], [1, 4, 17], [6, 5, 1, 3, 8, 4, 16, 14], [11, 6, 5, 15, 12, 0, 1, 7, 3, 8, 9, 4], [0, 3, 4, 10], [6, 1, 8], [6, 0, 1, 7, 8, 13, 10, 14], [3, 4], [15, 0, 3, 8, 9, 4], [6, 1, 8, 4], [6, 1, 3, 4, 16], [6, 7], [1, 3, 8], [1], [6, 12, 0, 1, 2, 3, 8, 9, 4], [15, 0, 7, 2, 3, 8, 4], [6, 15, 0, 1, 7, 2, 3, 8, 9, 4, 10], [6, 1, 7], [0, 2], [11, 5, 7, 16], [6, 1, 8], [1], [6, 0, 1, 2, 8, 16], [11, 1, 7], [6], [5, 0, 7, 8], [1, 3], [6, 1, 7, 3, 8, 9, 4], [0, 1, 3, 10], [11, 5, 0, 1, 7, 3, 9], [6, 3], [6, 0, 1], [6, 5, 0, 1, 7, 2, 3, 8, 9, 4], [6, 1, 7, 3, 8, 9], [6], [6, 8], [6, 1, 7, 8], [6, 8, 13], [11, 6, 0, 1], [6, 1, 8], [6, 8], [1, 7, 8, 4], [6, 1, 16], [6, 5, 15, 1, 3, 8, 9, 4, 14], [0], [1, 8], [11, 6, 1, 7, 14], [6, 0, 1, 3, 8, 4], [6, 0, 1, 7, 2, 3, 8, 9, 13, 10], [8], [1, 7, 3], [4], [1, 9], [12], [12, 7, 8, 9], [6, 1], [6, 5, 15, 1, 2, 3, 8, 4], [6, 12, 0, 1, 3, 8, 10], [6, 5, 15, 12, 0, 1, 7, 2, 3, 8, 9, 4, 10], [0, 1, 7, 8], [6, 5, 15, 12, 0, 1, 7, 3, 8, 9, 4], [6, 0, 1, 7, 3, 8], [1, 7, 3, 10], [6, 1, 3], [6, 3, 8], [2, 3, 8], [6, 15, 12, 1, 7, 3, 8, 9, 4, 13], [6, 3, 8], [6, 15, 1, 9, 4, 14], [6, 5, 15, 0, 7, 3, 8, 16], [7], [6, 12, 0, 1, 7, 3, 8, 9, 4, 16], [12], [6, 15, 0, 1, 8, 4, 14], [6, 1, 8], [11], [1], [6, 0, 1, 3, 8], [11, 6, 1, 3, 8], [6], [5], [6, 0, 1, 3, 8, 9, 4], [11, 6, 15, 1, 3, 8, 4, 13], [0, 1, 8, 10], [3], [6, 15, 0, 1, 3, 8, 4], [0, 1, 7, 2, 3, 8], [6, 3, 8], [6, 8], [3], [6, 1, 3, 8, 4, 10, 16], [0, 1, 7, 3], [7, 3, 8, 10], [11, 6, 5, 15, 12, 0, 1, 7, 2, 3, 8, 9, 4, 16], [6, 15, 0, 1, 3, 4], [11, 6, 5, 15, 12, 0, 1, 7, 2, 3, 8, 9, 4, 13, 10, 16, 14], [8], [5, 1, 3, 4], [6, 0, 1, 3, 8, 4, 10, 14], [0, 1, 8, 9], [6, 1, 8, 16], [6, 1], [6, 0, 1, 7, 3, 8, 4], [1, 8, 9], [0, 7, 3, 8, 4], [6, 1, 3, 8, 4], [6, 0, 1, 3, 8, 13], [0], [1, 8], [6, 0, 1, 2, 3, 8], [6, 0, 1, 7, 2, 3, 8, 4, 10], [0], [6, 5, 0, 1, 7, 3, 9, 4, 16, 14], [6, 15, 0, 3, 8, 4]]\n"
     ]
    }
   ],
   "source": [
    "testing_targets = get_targets(test_data, matching_dataset, themes)\n",
    "print(testing_targets)"
   ]
  },
  {
   "cell_type": "code",
   "execution_count": null,
   "metadata": {},
   "outputs": [],
   "source": [
    "probabilities, predictions = classify(test_data, testing_targets)\n",
    "print(probabilities)\n",
    "print(predictions)\n",
    "print(len(testing_targets))\n",
    "# print(set(testing_targets))\n",
    "# print(np.mean(predictions == testing_targets))\n",
    "# print(metrics.confusion_matrix(testing_targets, predictions))"
   ]
  },
  {
   "cell_type": "code",
   "execution_count": 69,
   "metadata": {},
   "outputs": [
    {
     "name": "stdout",
     "output_type": "stream",
     "text": [
      "[0.24138187 0.93163593 0.05905105 0.4260415  0.21547512 0.06678046\n",
      " 0.67277869 0.13913992 0.34276627 0.19255453 0.18798987 0.04413205\n",
      " 0.07105612 0.08532089 0.07787218 0.11105406 0.06367558 0.00766928]\n",
      "[0 1 0 0 0 0 1 0 0 0 0 0 0 0 0 0 0 0]\n"
     ]
    },
    {
     "data": {
      "text/plain": [
       "[1, 6, 9]"
      ]
     },
     "execution_count": 69,
     "metadata": {},
     "output_type": "execute_result"
    }
   ],
   "source": [
    "print(probabilities[0])\n",
    "print(predictions[0])\n",
    "testing_targets[0].sort()\n",
    "testing_targets[0]"
   ]
  },
  {
   "cell_type": "code",
   "execution_count": 68,
   "metadata": {},
   "outputs": [
    {
     "name": "stdout",
     "output_type": "stream",
     "text": [
      "[0.65527132 0.76905202 0.20598563 0.83068604 0.26963452 0.16457732\n",
      " 0.55105735 0.45727434 0.59985664 0.2202207  0.119725   0.04965593\n",
      " 0.14895674 0.04327176 0.04688075 0.08486023 0.09889555 0.00608746]\n",
      "[1 1 0 1 0 0 1 0 1 0 0 0 0 0 0 0 0 0]\n"
     ]
    },
    {
     "data": {
      "text/plain": [
       "[0, 1, 3, 4, 6, 8, 9, 10, 16]"
      ]
     },
     "execution_count": 68,
     "metadata": {},
     "output_type": "execute_result"
    }
   ],
   "source": [
    "print(probabilities[1])\n",
    "print(predictions[1])\n",
    "testing_targets[1].sort()\n",
    "testing_targets[1]"
   ]
  },
  {
   "cell_type": "code",
   "execution_count": null,
   "metadata": {
    "collapsed": true
   },
   "outputs": [],
   "source": []
  }
 ],
 "metadata": {
  "kernelspec": {
   "display_name": "Python 3",
   "language": "python",
   "name": "python3"
  },
  "language_info": {
   "codemirror_mode": {
    "name": "ipython",
    "version": 3
   },
   "file_extension": ".py",
   "mimetype": "text/x-python",
   "name": "python",
   "nbconvert_exporter": "python",
   "pygments_lexer": "ipython3",
   "version": "3.6.8"
  }
 },
 "nbformat": 4,
 "nbformat_minor": 2
}
