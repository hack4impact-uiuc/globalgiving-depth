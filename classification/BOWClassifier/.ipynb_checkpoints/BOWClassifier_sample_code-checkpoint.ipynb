{
 "cells": [
  {
   "cell_type": "markdown",
   "metadata": {},
   "source": [
    "Initial set up"
   ]
  },
  {
   "cell_type": "code",
   "execution_count": 1,
   "metadata": {},
   "outputs": [
    {
     "ename": "FileNotFoundError",
     "evalue": "[Errno 2] No such file or directory: 'categories_dict.json'",
     "output_type": "error",
     "traceback": [
      "\u001b[0;31m---------------------------------------------------------------------------\u001b[0m",
      "\u001b[0;31mFileNotFoundError\u001b[0m                         Traceback (most recent call last)",
      "\u001b[0;32m<ipython-input-1-5e9d682f37c6>\u001b[0m in \u001b[0;36m<module>\u001b[0;34m()\u001b[0m\n\u001b[1;32m      4\u001b[0m \u001b[0;34m\u001b[0m\u001b[0m\n\u001b[1;32m      5\u001b[0m \u001b[0;31m# opening json files\u001b[0m\u001b[0;34m\u001b[0m\u001b[0;34m\u001b[0m\u001b[0m\n\u001b[0;32m----> 6\u001b[0;31m \u001b[0;32mwith\u001b[0m \u001b[0mopen\u001b[0m\u001b[0;34m(\u001b[0m\u001b[0;34m\"../training.json\"\u001b[0m\u001b[0;34m)\u001b[0m \u001b[0;32mas\u001b[0m \u001b[0mtraining_data_json\u001b[0m\u001b[0;34m,\u001b[0m         \u001b[0mopen\u001b[0m\u001b[0;34m(\u001b[0m\u001b[0;34m\"categories_dict.json\"\u001b[0m\u001b[0;34m)\u001b[0m \u001b[0;32mas\u001b[0m \u001b[0mdictionary_json\u001b[0m\u001b[0;34m,\u001b[0m         \u001b[0mopen\u001b[0m\u001b[0;34m(\u001b[0m\u001b[0;34m\"../testing.json\"\u001b[0m\u001b[0;34m)\u001b[0m \u001b[0;32mas\u001b[0m \u001b[0morganizations_json\u001b[0m\u001b[0;34m:\u001b[0m\u001b[0;34m\u001b[0m\u001b[0m\n\u001b[0m\u001b[1;32m      7\u001b[0m \u001b[0;34m\u001b[0m\u001b[0m\n\u001b[1;32m      8\u001b[0m     \u001b[0;31m# loading json files\u001b[0m\u001b[0;34m\u001b[0m\u001b[0;34m\u001b[0m\u001b[0m\n",
      "\u001b[0;31mFileNotFoundError\u001b[0m: [Errno 2] No such file or directory: 'categories_dict.json'"
     ]
    }
   ],
   "source": [
    "# importing libraries\n",
    "from BOWClassifier import BOWClassifier\n",
    "import json\n",
    "\n",
    "# opening json files\n",
    "with open(\"../training.json\") as training_data_json, \\\n",
    "        open(\"dictionary.json\") as dictionary_json, \\\n",
    "        open(\"../testing.json\") as organizations_json:\n",
    "        \n",
    "    # loading json files\n",
    "    training_data = json.load(training_data_json)\n",
    "    dictionary = json.load(dictionary_json)\n",
    "    organizations = json.load(organizations_json)\n",
    "\n",
    "# initializing bag of words classifier\n",
    "bow = BOWClassifier(training_data, dictionary)\n",
    "\n",
    "# predicting set of organizations\n",
    "bow.predict_set(organizations)\n",
    "\n",
    "# saving predictions\n",
    "bow.save_predictions(\"predictions.json\")\n",
    "\n",
    "# loading predictions\n",
    "with open(\"predictions.json\") as predictions_json:\n",
    "    predictions = json.load(predictions_json)\n",
    "    bow.load_predictions(predictions)\n",
    "\n",
    "# loading targets (correct classifications) to test accuracy of sample dataset\n",
    "bow.load_targets(training_data)\n",
    "\n",
    "# printing f1 score\n",
    "print(bow.get_f1_score())\n",
    "\n",
    "# predicting single organization based on text\n",
    "text = \"Climate change is not just an environmental issue, or a social justice issue, or an economic issue — it’s all of those things at once. The only way we will be strong enough to put pressure on governments and stand up to the fossil fuel industry is if we all work together.\"\n",
    "print(bow.predict_org(text))"
   ]
  },
  {
   "cell_type": "code",
   "execution_count": null,
   "metadata": {},
   "outputs": [],
   "source": []
  }
 ],
 "metadata": {
  "kernelspec": {
   "display_name": "Python 3",
   "language": "python",
   "name": "python3"
  },
  "language_info": {
   "codemirror_mode": {
    "name": "ipython",
    "version": 3
   },
   "file_extension": ".py",
   "mimetype": "text/x-python",
   "name": "python",
   "nbconvert_exporter": "python",
   "pygments_lexer": "ipython3",
   "version": "3.6.5"
  }
 },
 "nbformat": 4,
 "nbformat_minor": 2
}
