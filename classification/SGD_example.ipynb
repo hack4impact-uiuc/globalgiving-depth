{
 "cells": [
  {
   "cell_type": "code",
   "execution_count": 2,
   "metadata": {},
   "outputs": [],
   "source": [
    "import json\n",
    "from sklearn.model_selection import train_test_split\n",
    "\n",
    "from SGDClassifier import (\n",
    "    NGO_SGDClassifier,\n",
    "    set_up_training_data,\n",
    "    save_classifier,\n",
    "    load_classifier,\n",
    ")"
   ]
  },
  {
   "cell_type": "code",
   "execution_count": 3,
   "metadata": {
    "collapsed": true
   },
   "outputs": [],
   "source": [
    "with open(\"data.json\", \"r\") as in_file:\n",
    "    dataset = json.load(in_file)\n",
    "    train_data, test_data = train_test_split(dataset, test_size=0.2, random_state=42)\n",
    "    formatted_train_data = set_up_training_data(train_data, \"formatted_train.json\")"
   ]
  },
  {
   "cell_type": "code",
   "execution_count": 5,
   "metadata": {},
   "outputs": [
    {
     "name": "stderr",
     "output_type": "stream",
     "text": [
      "C:\\Users\\pinkd\\Miniconda3\\lib\\site-packages\\sklearn\\linear_model\\stochastic_gradient.py:166: FutureWarning: max_iter and tol parameters have been added in SGDClassifier in 0.19. If both are left unset, they default to max_iter=5 and tol=None. If tol is not None, max_iter defaults to max_iter=1000. From 0.21, default max_iter will be 1000, and default tol will be 1e-3.\n",
      "  FutureWarning)\n"
     ]
    },
    {
     "data": {
      "text/plain": [
       "{'Animals': 11,\n",
       " 'Arts and Culture': 14,\n",
       " 'Children': 6,\n",
       " 'Climate Change': 5,\n",
       " 'Democracy and Governance': 15,\n",
       " 'Disaster Recovery': 12,\n",
       " 'Economic Development': 0,\n",
       " 'Education': 1,\n",
       " 'Environment': 7,\n",
       " 'Health': 8,\n",
       " 'Human Rights': 4,\n",
       " 'Humanitarian Assistance': 9,\n",
       " 'Hunger': 16,\n",
       " 'LGBTQAI+': 17,\n",
       " 'Microfinance': 2,\n",
       " 'Sport': 13,\n",
       " 'Technology': 10,\n",
       " 'Women and Girls': 3}"
      ]
     },
     "execution_count": 5,
     "metadata": {},
     "output_type": "execute_result"
    }
   ],
   "source": [
    "# Create the classifier from the sample training.json\n",
    "classifier = NGO_SGDClassifier()\n",
    "classifier.fit(formatted_train_data)\n",
    "\n",
    "classifier.get_target_map()"
   ]
  },
  {
   "cell_type": "code",
   "execution_count": 6,
   "metadata": {
    "collapsed": true
   },
   "outputs": [],
   "source": [
    "# We can save and reload the classifier that is already fitted to the data\n",
    "save_classifier(classifier, \"SGDClassifier.obj\")\n",
    "classifier2 = load_classifier(\"SGDClassifier.obj\")"
   ]
  },
  {
   "cell_type": "code",
   "execution_count": 7,
   "metadata": {},
   "outputs": [
    {
     "name": "stdout",
     "output_type": "stream",
     "text": [
      "[[0.24228852 0.93219118 0.05950462 ... 0.11416817 0.0642635  0.00777012]\n",
      " [0.65180474 0.76397265 0.20796356 ... 0.08220288 0.09921484 0.00577589]\n",
      " [0.29016208 0.65464337 0.08853504 ... 0.03731894 0.10973523 0.00698353]\n",
      " ...\n",
      " [0.32458861 0.24691815 0.06184393 ... 0.0353329  0.08893793 0.00889758]\n",
      " [0.79330378 0.7981592  0.24537278 ... 0.220265   0.12993512 0.00504916]\n",
      " [0.57190135 0.76971584 0.19705805 ... 0.11781661 0.13216392 0.00541462]]\n",
      "[[0 1 0 ... 0 0 0]\n",
      " [1 1 0 ... 0 0 0]\n",
      " [0 1 0 ... 0 0 0]\n",
      " ...\n",
      " [0 0 0 ... 0 0 0]\n",
      " [1 1 0 ... 0 0 0]\n",
      " [1 1 0 ... 0 0 0]]\n"
     ]
    }
   ],
   "source": [
    "# Predict the themes\n",
    "probabilities, predictions = classifier2.predict(test_data)\n",
    "print(probabilities)\n",
    "print(predictions)"
   ]
  },
  {
   "cell_type": "code",
   "execution_count": 8,
   "metadata": {},
   "outputs": [
    {
     "name": "stdout",
     "output_type": "stream",
     "text": [
      "The mean f1 score among documents is: 0.5762209499520222\n",
      "{'Economic Development': 0.545054945054945, 'Education': 0.8351254480286738, 'Microfinance': 0.019047619047619046, 'Women and Girls': 0.7230392156862745, 'Human Rights': 0.40125391849529785, 'Climate Change': 0.18000000000000002, 'Children': 0.7444326617179214, 'Environment': 0.49808429118773945, 'Health': 0.7313997477931905, 'Humanitarian Assistance': 0.08695652173913045, 'Technology': 0.04040404040404041, 'Animals': 0.3793103448275862, 'Disaster Recovery': 0.045454545454545456, 'Sport': 0.03389830508474576, 'Arts and Culture': 0, 'Democracy and Governance': 0.04347826086956522, 'Hunger': 0.048192771084337345, 'LGBTQAI+': 0}\n"
     ]
    }
   ],
   "source": [
    "# Get the f1 scores\n",
    "mean_document_f1_score, category_f1_scores = classifier2.get_f1_scores()\n",
    "print(\"The mean f1 score among documents is:\", mean_document_f1_score)\n",
    "print(category_f1_scores)"
   ]
  },
  {
   "cell_type": "code",
   "execution_count": null,
   "metadata": {
    "collapsed": true
   },
   "outputs": [],
   "source": []
  }
 ],
 "metadata": {
  "kernelspec": {
   "display_name": "Python 3",
   "language": "python",
   "name": "python3"
  },
  "language_info": {
   "codemirror_mode": {
    "name": "ipython",
    "version": 3
   },
   "file_extension": ".py",
   "mimetype": "text/x-python",
   "name": "python",
   "nbconvert_exporter": "python",
   "pygments_lexer": "ipython3",
   "version": "3.6.8"
  }
 },
 "nbformat": 4,
 "nbformat_minor": 2
}
